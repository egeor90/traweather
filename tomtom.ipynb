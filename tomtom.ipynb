{
  "nbformat": 4,
  "nbformat_minor": 0,
  "metadata": {
    "colab": {
      "name": "tomtom1.ipynb",
      "provenance": [],
      "collapsed_sections": []
    },
    "kernelspec": {
      "name": "python37064bite485a8cb90f046ccb8c8b7f4bd9f1ca2",
      "display_name": "Python 3.7.0 64-bit"
    }
  },
  "cells": [
    {
      "cell_type": "code",
      "metadata": {
        "id": "ZkXu_jXH2UiH",
        "colab_type": "code",
        "colab": {}
      },
      "source": [
        "%matplotlib inline\n",
        "import matplotlib.pyplot as plt\n",
        "import plotly.express as px\n",
        "import pandas as pd\n",
        "import json\n",
        "import requests\n",
        "\n",
        "city = 'Moscow'\n",
        "country = 'Russia'\n",
        "#date_ = \"2020-02-11\"\n",
        "\n",
        "# retrieve json file\n",
        "# url = \"https://api.midway.tomtom.com/ranking/live/ITA_milan\"\n",
        "# url = \"https://api.weather.midway.tomtom.com/weather/live/ITA_milan\"\n",
        "# url = \"https://api.midway.tomtom.com/ranking/dailyStats/ITA_milan\"\n",
        "\n",
        "url = \"https://api.midway.tomtom.com/ranking/dailyStats/\"+country[0:3].upper()+\"_\"+city.lower()\n",
        "#url = \"https://api.midway.tomtom.com/ranking/dailyStats/CHN_\"+city.lower()\n",
        "req_ = requests.get(url)\n",
        "json_ = req_.json()\n",
        "\n",
        "pd.set_option(\"display.max_rows\", False)"
      ],
      "execution_count": null,
      "outputs": []
    },
    {
      "cell_type": "code",
      "metadata": {
        "id": "-u8iyyeMlCWB",
        "colab_type": "code",
        "colab": {}
      },
      "source": [
        "df = pd.DataFrame.from_dict(json_)\n",
        "df['date'] = pd.DataFrame(df['date'], columns=['date'])\n",
        "df['datetime'] = pd.to_datetime(df['date'])\n",
        "df = df.set_index('datetime')\n",
        "df.drop(['date'], axis=1, inplace=True)"
      ],
      "execution_count": null,
      "outputs": []
    },
    {
      "cell_type": "code",
      "metadata": {
        "id": "SMN81U5Xr1Cc",
        "colab_type": "code",
        "colab": {}
      },
      "source": [
        "#df.head()\n",
        "df['week'] = df['week'].astype(str).str[:-5]"
      ],
      "execution_count": null,
      "outputs": []
    },
    {
      "cell_type": "code",
      "metadata": {
        "id": "AArEdoF4kilk",
        "colab_type": "code",
        "colab": {}
      },
      "source": [
        "# plt.style.use(\"ggplot\")\n",
        "# ax = df.plot(color=\"Green\")\n",
        "# plt.title(city + \" Traffic\")\n",
        "# plt.legend(loc=2)\n",
        "# plt.box(False)"
      ],
      "execution_count": null,
      "outputs": []
    },
    {
      "cell_type": "code",
      "metadata": {
        "id": "z0zbgcgesvUR",
        "colab_type": "code",
        "colab": {}
      },
      "source": [
        "#df.loc[df.index.strftime(\"%Y-%m-%d\") == date_]"
      ],
      "execution_count": null,
      "outputs": []
    },
    {
      "cell_type": "code",
      "metadata": {
        "id": "A4kTs4as6f2p",
        "colab_type": "code",
        "colab": {}
      },
      "source": [
        "df.to_csv(\"/content/drive/My Drive/Colab Notebooks/\"+city.lower()+'_traffic.csv', encoding = 'utf-8')"
      ],
      "execution_count": null,
      "outputs": []
    },
    {
      "cell_type": "code",
      "metadata": {
        "id": "uoDWnvc4eEgB",
        "colab_type": "code",
        "colab": {}
      },
      "source": [
        ""
      ],
      "execution_count": null,
      "outputs": []
    }
  ]
}