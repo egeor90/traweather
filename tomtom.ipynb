{
  "nbformat": 4,
  "nbformat_minor": 0,
  "metadata": {
    "colab": {
      "name": "tomtom1.ipynb",
      "provenance": [],
      "collapsed_sections": [],
      "include_colab_link": true
    },
    "kernelspec": {
      "name": "python37064bite485a8cb90f046ccb8c8b7f4bd9f1ca2",
      "display_name": "Python 3.7.0 64-bit"
    }
  },
  "cells": [
    {
      "cell_type": "markdown",
      "metadata": {
        "id": "view-in-github",
        "colab_type": "text"
      },
      "source": [
        "<a href=\"https://colab.research.google.com/github/egeor90/traweather/blob/master/tomtom.ipynb\" target=\"_parent\"><img src=\"https://colab.research.google.com/assets/colab-badge.svg\" alt=\"Open In Colab\"/></a>"
      ]
    },
    {
      "cell_type": "code",
      "metadata": {
        "id": "ZkXu_jXH2UiH",
        "colab_type": "code",
        "colab": {}
      },
      "source": [
        "#%matplotlib inline\n",
        "#import matplotlib.pyplot as plt\n",
        "#import plotly.express as px\n",
        "import pandas as pd\n",
        "import json\n",
        "import requests\n",
        "import os\n",
        "\n",
        "cwd = os.getcwd()\n",
        "\n",
        "city = 'Moscow'\n",
        "country = 'Russia'\n",
        "#date_ = \"2020-02-11\"\n",
        "\n",
        "# retrieve json file\n",
        "# url = \"https://api.midway.tomtom.com/ranking/live/ITA_milan\"\n",
        "# url = \"https://api.weather.midway.tomtom.com/weather/live/ITA_milan\"\n",
        "# url = \"https://api.midway.tomtom.com/ranking/dailyStats/ITA_milan\"\n",
        "\n",
        "url = \"https://api.midway.tomtom.com/ranking/dailyStats/\"+country[0:3].upper()+\"_\"+city.lower()\n",
        "#url = \"https://api.midway.tomtom.com/ranking/dailyStats/CHN_\"+city.lower()\n",
        "req_ = requests.get(url)\n",
        "json_ = req_.json()\n",
        "\n",
        "pd.set_option(\"display.max_rows\", False)"
      ],
      "execution_count": 6,
      "outputs": []
    },
    {
      "cell_type": "code",
      "metadata": {
        "id": "-u8iyyeMlCWB",
        "colab_type": "code",
        "colab": {}
      },
      "source": [
        "df = pd.DataFrame.from_dict(json_)\n",
        "df['date'] = pd.DataFrame(df['date'], columns=['date'])\n",
        "df['datetime'] = pd.to_datetime(df['date'])\n",
        "df = df.set_index('datetime')\n",
        "df.drop(['date'], axis=1, inplace=True)"
      ],
      "execution_count": 7,
      "outputs": []
    },
    {
      "cell_type": "code",
      "metadata": {
        "id": "SMN81U5Xr1Cc",
        "colab_type": "code",
        "colab": {}
      },
      "source": [
        "#df.head()\n",
        "df['week'] = df['week'].astype(str).str[:-5]"
      ],
      "execution_count": 8,
      "outputs": []
    },
    {
      "cell_type": "code",
      "metadata": {
        "id": "AArEdoF4kilk",
        "colab_type": "code",
        "colab": {}
      },
      "source": [
        "# plt.style.use(\"ggplot\")\n",
        "# ax = df.plot(color=\"Green\")\n",
        "# plt.title(city + \" Traffic\")\n",
        "# plt.legend(loc=2)\n",
        "# plt.box(False)"
      ],
      "execution_count": 9,
      "outputs": []
    },
    {
      "cell_type": "code",
      "metadata": {
        "id": "z0zbgcgesvUR",
        "colab_type": "code",
        "colab": {}
      },
      "source": [
        "#df.loc[df.index.strftime(\"%Y-%m-%d\") == date_]"
      ],
      "execution_count": 10,
      "outputs": []
    },
    {
      "cell_type": "code",
      "metadata": {
        "id": "A4kTs4as6f2p",
        "colab_type": "code",
        "colab": {
          "base_uri": "https://localhost:8080/",
          "height": 235
        },
        "outputId": "bc0bd5b7-4fe9-4118-9fa1-8058e5732f5f"
      },
      "source": [
        "df.head()"
      ],
      "execution_count": 11,
      "outputs": [
        {
          "output_type": "execute_result",
          "data": {
            "text/html": [
              "<div>\n",
              "<style scoped>\n",
              "    .dataframe tbody tr th:only-of-type {\n",
              "        vertical-align: middle;\n",
              "    }\n",
              "\n",
              "    .dataframe tbody tr th {\n",
              "        vertical-align: top;\n",
              "    }\n",
              "\n",
              "    .dataframe thead th {\n",
              "        text-align: right;\n",
              "    }\n",
              "</style>\n",
              "<table border=\"1\" class=\"dataframe\">\n",
              "  <thead>\n",
              "    <tr style=\"text-align: right;\">\n",
              "      <th></th>\n",
              "      <th>weekday</th>\n",
              "      <th>week</th>\n",
              "      <th>congestion</th>\n",
              "      <th>diffRatio</th>\n",
              "    </tr>\n",
              "    <tr>\n",
              "      <th>datetime</th>\n",
              "      <th></th>\n",
              "      <th></th>\n",
              "      <th></th>\n",
              "      <th></th>\n",
              "    </tr>\n",
              "  </thead>\n",
              "  <tbody>\n",
              "    <tr>\n",
              "      <th>2019-12-30</th>\n",
              "      <td>Mon</td>\n",
              "      <td>1</td>\n",
              "      <td>83</td>\n",
              "      <td>0.596154</td>\n",
              "    </tr>\n",
              "    <tr>\n",
              "      <th>2019-12-31</th>\n",
              "      <td>Tue</td>\n",
              "      <td>1</td>\n",
              "      <td>18</td>\n",
              "      <td>-0.704918</td>\n",
              "    </tr>\n",
              "    <tr>\n",
              "      <th>2020-01-01</th>\n",
              "      <td>Wed</td>\n",
              "      <td>1</td>\n",
              "      <td>2</td>\n",
              "      <td>-0.968254</td>\n",
              "    </tr>\n",
              "    <tr>\n",
              "      <th>2020-01-02</th>\n",
              "      <td>Thu</td>\n",
              "      <td>1</td>\n",
              "      <td>9</td>\n",
              "      <td>-0.857143</td>\n",
              "    </tr>\n",
              "    <tr>\n",
              "      <th>2020-01-03</th>\n",
              "      <td>Fri</td>\n",
              "      <td>1</td>\n",
              "      <td>12</td>\n",
              "      <td>-0.803279</td>\n",
              "    </tr>\n",
              "  </tbody>\n",
              "</table>\n",
              "</div>"
            ],
            "text/plain": [
              "           weekday week  congestion  diffRatio\n",
              "datetime                                      \n",
              "2019-12-30     Mon    1          83   0.596154\n",
              "2019-12-31     Tue    1          18  -0.704918\n",
              "2020-01-01     Wed    1           2  -0.968254\n",
              "2020-01-02     Thu    1           9  -0.857143\n",
              "2020-01-03     Fri    1          12  -0.803279"
            ]
          },
          "metadata": {
            "tags": []
          },
          "execution_count": 11
        }
      ]
    },
    {
      "cell_type": "code",
      "metadata": {
        "id": "IY2EECQkggNP",
        "colab_type": "code",
        "colab": {}
      },
      "source": [
        "df.to_csv(cwd+\"/\"+city.lower()+'_traffic.csv', encoding = 'utf-8')"
      ],
      "execution_count": 15,
      "outputs": []
    }
  ]
}